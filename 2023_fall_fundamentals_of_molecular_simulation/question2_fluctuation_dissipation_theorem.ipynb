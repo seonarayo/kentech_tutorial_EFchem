{
  "cells": [
    {
      "cell_type": "markdown",
      "metadata": {
        "id": "view-in-github",
        "colab_type": "text"
      },
      "source": [
        "<a href=\"https://colab.research.google.com/github/seonarayo/kentech_tutorial_EFchem/blob/main/2023_fall_fundamentals_of_molecular_simulation/question2_fluctuation_dissipation_theorem.ipynb\" target=\"_parent\"><img src=\"https://colab.research.google.com/assets/colab-badge.svg\" alt=\"Open In Colab\"/></a>"
      ]
    },
    {
      "cell_type": "markdown",
      "id": "a6d4944f",
      "metadata": {
        "id": "a6d4944f"
      },
      "source": [
        "# Question 2. The Balance between Dissipation and Fluctuation.\n",
        "\n",
        "In Class, we discussed the balance between a heat sink and a heat source from a solvent with an example of a harmonic oscillator at a molecular scale. Friction tends to drive any system to a completely \"dead\" state, while noise, which tends to keep the system \"alive.\" As we discussed in Class, this balance is required to have a thermal equilibrium state at long times. This question illustrates how to determine the strength of the fluctuation to satisfy the equipartition theorem (See Question 1, if you are not familiar with the theorem). There are 7 small questions.\n",
        "\n",
        "## Reminder: Stochastic equation of motion for a particle in a solvent liquid.\n",
        "\n",
        "The randomness of an individual trajectory of a particle of mass $m$ in a solvent is described by the equation of motion below with the random force $\\delta F(t)$:\n",
        "\n",
        "$$ m\\frac{dv}{dt} = -\\xi v + \\delta F(t)$$, (Eq. 1)\n",
        "where $v$ is velocity of the particle and $\\xi$ is a friction coefficient. The $\\textit{fluctuating}$ force satisfies the following condition to be called \"random\":\n",
        "\n",
        "$$ (i) \\langle \\delta F(t) \\rangle = 0.$$\n",
        "\n",
        "$$ (ii) \\langle \\delta F(t)\\delta F(t')\\rangle=2B\\delta(t-t').$$\n",
        "Here, $\\delta(t-t')$ is a delta function (1 if $t=t'$ or 0 otherwise). $B$ is a measure of the strength of the fluctuating force, and $\\langle\\cdots\\rangle$ represents the ensemble average.\n",
        "\n",
        "Eq. 1 can be solved analytically and the average of $v^2(t)$, which is related to the thermal energy, is as follows:\n",
        "\n",
        "$$ \\langle v^2(t)\\rangle = \\exp(-2\\xi t/m)v^2(0) + \\frac{B}{\\xi m}[1-\\exp(-2\\xi t/m)].$$ (Eq. 1-1)\n",
        "\n",
        "## Question 2-1. The code below plots Eq. 1-1 with an arbitrary initial velocity. It shows the flat irrespective of time. Interpret this in the context of the thermal energy.\n",
        "\n",
        "## Answer 2-1.\n",
        "If $V^2$ is constant, it means that T is constant. Therefore, it is a state in which the energy of an object is conserved thermodynamically without any change in temperature.\n",
        "\n",
        "\n",
        "## Question 2-2. At time $t=0$, what is  $\\langle v^2(t)\\rangle$ from Eq. 1-1?\n",
        "\n",
        "## Answer 2-2.\n",
        "$ v^2 $\n",
        "\n",
        "\n",
        "## Question 2-3. At time $t\\rightarrow\\infty$, what is  $\\langle v^2(t)\\rangle$ from Eq. 1-1?\n",
        "\n",
        "## Answer 2-3.\n",
        "$ \\frac{B}{\\xi m} $\n",
        "\n",
        "\n",
        "## Question 2-4. Show that $B=\\xi k_BT$ by equating the results in 2-1 and 2-2.\n",
        "Hing: the equipartition theorem.\n",
        "\n",
        "## Answer 2-4.\n",
        "$ \\frac{1}{2}mv^2 = \\frac{1}{2}k_b T $, so, $ v^2 = \\frac{k_b T}{m}$, therefore, $ v^2 = \\frac{K_bT}{m} = \\frac{B}{\\xi m}$. In result, $B=\\xi k_BT$\n"
      ]
    },
    {
      "cell_type": "code",
      "source": [
        "import numpy as np\n",
        "import matplotlib.pyplot as plt\n",
        "\n",
        "# Constants\n",
        "xi = 1.0        # Friction coefficient\n",
        "m = 1.0        # Mass of the particle\n",
        "kB = 1.0       # Boltzmann constant\n",
        "T = 1.0        # Temperature\n",
        "B = kB * T * xi\n",
        "v0 = 1 # Initial velocity\n",
        "\n",
        "# Calculate <v^2(t)> as a function of t\n",
        "def v_squared(t, v0, xi, m, B):\n",
        "    return np.exp(-2*xi*t/m) * v0**2 + (B/(xi*m))*(1 - np.exp(-2*xi*t/m))\n",
        "\n",
        "t_values = np.linspace(0, 10, 400)\n",
        "v2_values = v_squared(t_values, v0, xi, m, B)\n",
        "\n",
        "plt.figure(figsize=(4, 3))\n",
        "plt.plot(t_values, v2_values, label=r'$\\langle v^2(t) \\rangle$', linewidth=5)\n",
        "plt.axhline(y=kB*T/m, color='r', linestyle='--', label=r'Equilibrium $v^2 = \\frac{k_B T}{m}$')\n",
        "plt.xlabel(\"Time\")\n",
        "plt.ylabel(r\"$\\langle v^2(t) \\rangle$\")\n",
        "plt.legend()\n",
        "plt.title(\"Time Evolution of Squared Velocity\")\n",
        "plt.tight_layout()\n",
        "plt.show()\n"
      ],
      "metadata": {
        "colab": {
          "base_uri": "https://localhost:8080/",
          "height": 328
        },
        "id": "LOFiC5D-5cz3",
        "outputId": "78a7f091-e38d-4e2b-9b33-84ddd5fb80ef"
      },
      "id": "LOFiC5D-5cz3",
      "execution_count": null,
      "outputs": [
        {
          "output_type": "display_data",
          "data": {
            "text/plain": [
              "<Figure size 400x300 with 1 Axes>"
            ],
            "image/png": "[encoded data removed]"
          },
          "metadata": {}
        }
      ]
    },
    {
      "cell_type": "markdown",
      "source": [
        "## Another example - Kinetics of a First-Order Isomerization Reaction\n",
        "\n",
        "The balance between friction and noise is an example of the fluctuation-dissipation theorem, one of the fundamental theoremsemts in equilibrium statistical mechanics. In this part, we apply the Fluctuation-Dissipation Theorem to a problem of Chemical Kinetics.\n",
        "\n",
        "Consider a reversible chemical reaction bewteen species $A$ and $B$ (e.g., isomerization reaction) given by:\n",
        "\n",
        "$$ A \\rightleftharpoons B $$\n",
        "\n",
        "For a given system with constant total concentration, the relationship between the concentrations is:\n",
        "\n",
        "$$ [A] + [B] = \\text{constant}. $$\n",
        "\n",
        "The basic rate equations of the reaction, with the reaction constants of the forward $k_1$ and reverse $k_2$ reactions, are:\n",
        "\n",
        "$$ \\frac{d[A]}{dt} = -k_1[A] + k_2[B] $$\n",
        "\n",
        "$$ \\frac{d[B]}{dt} = k_1[A] - k_2[B] $$\n",
        "\n",
        "## Question 2-5. What is the condition under which the equilibrium is reached?\n",
        "\n",
        "## Answer 2-5.\n",
        "$$ \\frac{d[A]}{dt} = \\frac{d[B]}{dt}$$\n",
        "\n",
        "Introducing a deviation $C $ from the equilibrium concentration of A or B:\n",
        "\n",
        "$$ C = [A] - [A]_{eq} = [B]_{eq} - [B] $$,\n",
        "where $ [A]_{eq} $ and $ [B]_{eq} $ are the equilibrium concentrations of A and B, respectively. Expressing the reaction rate in terms of deviation $C$ with the equilibrium condition, you arrive at the following simple differential equation:\n",
        "\n",
        "$$ \\frac{dC}{dt} = -(k_1 + k_2)C.$$ (Eq. 2)\n",
        "As one may notice, Eq. 2 well describes the equilibrium concentrations $A$ and $B$. The fluctuation of $C$ at two different times $t$ and $t'$ is a simple exponentially-decaying function:\n",
        "\n",
        "$$ \\langle C(t)C(t') \\rangle = \\langle C^2 \\rangle_{eq}\\exp[-(k_1+k_2)|t-t'|].$$ (Eq. 3)\n",
        "Here, $\\langle C^2 \\rangle_{eq}$ is the variance of the fluctuation in $C$ in equilibrium.\n",
        "\n",
        "## Question 2-6. Discuss a possible problem of Eq. 3 in the context of $dynamical$ equilibrium in Chemistry.\n",
        "\n",
        "## Answer 2-6.\n",
        "It looks like it stopped because the speed is the same. Fluctuations should not be ignored to represent this as in the context of 𝑑𝑦𝑛𝑎𝑚𝑖𝑐𝑎𝑙 equilibrium in chemistry.\n",
        "\n",
        "Actually, since the concentrations, including $A$, $B$, and even $C$, are on the order of Avogadro's number, the fluctuations should be not negligible. Thus, we add a fluctuating force $\\delta F(t)$ to Eq. 2, as we did for a particle in a viscous liquid. The the rate equation becomes stochastic as follows:\n",
        "\n",
        "$$ \\frac{dC}{dt} = -(k_1 + k_2)C + \\delta F(t).$$\n",
        "\n",
        "The fluctuating force again satisfies the two properties:\n",
        "$$ (i) \\langle \\delta F(t) \\rangle = 0 $$\n",
        "and\n",
        "$$ (ii) \\langle \\delta F(t)\\delta F(t')\\rangle=2B\\delta(t-t'). $$\n",
        "\n",
        "## Question 2-7. Determine $B$, and discuss the implications of this fluctuation-dissipation relationship in chemical kinetics. Hint: In determining B, have a close look at Questions 2-2,-3,-4.\n",
        "\n",
        "## Answer 2-7. XXX"
      ],
      "metadata": {
        "id": "6A361DvX-T6b"
      },
      "id": "6A361DvX-T6b"
    },
    {
      "cell_type": "code",
      "execution_count": null,
      "id": "541e8f9e",
      "metadata": {
        "id": "541e8f9e"
      },
      "outputs": [],
      "source": []
    }
  ],
  "metadata": {
    "kernelspec": {
      "display_name": "Python 3 (ipykernel)",
      "language": "python",
      "name": "python3"
    },
    "language_info": {
      "codemirror_mode": {
        "name": "ipython",
        "version": 3
      },
      "file_extension": ".py",
      "mimetype": "text/x-python",
      "name": "python",
      "nbconvert_exporter": "python",
      "pygments_lexer": "ipython3",
      "version": "3.10.9"
    },
    "colab": {
      "provenance": [],
      "include_colab_link": true
    }
  },
  "nbformat": 4,
  "nbformat_minor": 5
}